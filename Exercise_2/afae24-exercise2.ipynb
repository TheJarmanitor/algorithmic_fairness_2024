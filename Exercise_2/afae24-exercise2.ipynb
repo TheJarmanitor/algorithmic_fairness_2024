{
 "cells": [
  {
   "cell_type": "markdown",
   "id": "12394aa1-0fe2-49d1-951a-6defb73ef28c",
   "metadata": {},
   "source": [
    "# Algorithmic Fairness, Accountability, and Ethics, Spring 2023\n",
    "# Exercise 2\n",
    "\n",
    "The first three parts require no programming.\n",
    "The final part requires programming and will be reused for Mandatory Assignment 1.\n",
    "\n",
    "## Task 1 (basics)\n",
    "\n",
    "Take a look at the following set of individuals:\n",
    "\n",
    "![](001.png)\n",
    "\n",
    "As in the lecture, individuals that have the target (T = 1) are drawn in blue, others (T = 0) are drawn in red. G = 0 refers to the triangle group, G = 1 refers to the circle group. Different to the lecture material, the visual split-up happens by selection status, not by target. \n",
    "\n",
    "- Compute the following probabilities: \n",
    "  - $\\Pr(G = 1) = \\frac{6}{10} = \\frac{3}{5}$\n",
    " \n",
    "  - $\\Pr(G = 0)= \\frac{4}{10} = \\frac{2}{5}$\n",
    "\n",
    "  - $\\Pr(S = 1 \\mid G = 1) = \\frac{4}{6} = \\frac{2}{3}$\n",
    "\n",
    "  - $\\Pr(S = 1 \\mid G = 0) = \\frac{2}{4} = \\frac{1}{2}$\n",
    "\n",
    "  - $\\Pr(S = 1 \\mid G = 1, T = 1) = \\frac{3}{3} = 1$\n",
    "\n",
    "  - $\\Pr(S = 1 \\mid G = 0, T = 1) =\\frac{1}{2}$\n",
    "\n",
    "- Verify the following fairness criteria\n",
    "  - $G \\perp S$ (demographic parity): No Statistical Parity as group proportions are not the same\n",
    "  - $G \\perp S | T$ (equalized odds): No equalized odds as they don't have the same True Positive Rate\n",
    "  - $G \\perp T | S$ (equalized outcome): \n",
    "    - $Pr(T = 1 | G = 0, S = 1)= \\frac{1}{2}$\n",
    "    - $Pr(T = 1 | G = 1, S = 1)= \\frac{3}{4}$\n",
    "\n",
    "    - $Pr(T = 1 | G = 0, S = 0)= \\frac{1}{2}$\n",
    "    - $Pr(T = 1 | G = 1, S = 0)= \\frac{0}{2}$\n",
    "  \n",
    "      No Equalized Probabilities after selection\n",
    "- In case one of the fairness conditions is not satisfied, change the example to satisfy it. What is the minimum number of changes necessary in each case? \n",
    "  - Statistical Parity: Reject another circle (whichever works but maybe non target)\n",
    "  - Equalized Odds: Accept another target triangle\n",
    "  - Equalized Outcomes: \n",
    "    - reject target circle, accept non target circle\n",
    "- Change the example such that all three fairness conditions hold at the same time.\n",
    "  - all the ones with target are accepted, all the non targets are rejected\n",
    "\n",
    "## Task 2 (Other fairness criteria)\n",
    "\n",
    "Consider the following fairness criteria: $G \\perp T$ and $S \\perp T$. \n",
    "\n",
    "- Find an intuitive explanation of these criteria, respectively. How would you call them?\n",
    "- Formally write out how you verify the conditions in the case that $G$, $S$, and $T$ are binary.\n",
    "- Can all criteria $G \\perp S$ (demographic parity), $G \\perp T$, and $S \\perp T$ hold at the same time? If yes, give an example. If no, reason for the impossibility.\n",
    "\n",
    "## Task 3 (Fairness/Utility-Tradeoff)\n",
    "\n",
    "**Remark:** You might find it easier to solve this task by writing some code.\n",
    "\n",
    "Look at the following two picture that presents group and target as usual, but instead of seeing the outcome of the selection, we just see the score. (You can think about it as the grade point average achieved in school.)\n",
    "\n",
    "![](002.png)\n",
    "\n",
    "We discuss a classifier that selects all individuals above a certain (maybe group-specific) threshold.\n",
    "\n",
    "1) Sketch the ROC curve for a threshold based classifier (or actually plot it).\n",
    "2) Let us say that we are in a situation where a false positive costs us 150 DKK, a true positive gives us 100 DKK.\n",
    "    - If we want to maximize the profit using a single threshold, which one would it be?\n",
    "    - If we want to achieve statistical parity by choosing individual threshold values, which thresholds can we choose? Which one provides the best utility, i.e., the largest profit? \n",
    "    - At which individual thresholds do you achieve equalized odds in this setting? Which setting achieves the best utility?"
   ]
  },
  {
   "cell_type": "code",
   "execution_count": 25,
   "id": "4828ed1a",
   "metadata": {},
   "outputs": [
    {
     "name": "stdout",
     "output_type": "stream",
     "text": [
      "0.3333333333333333\n",
      "1.0\n"
     ]
    }
   ],
   "source": [
    "import numpy as np\n",
    "triangles = {\n",
    "    \"target\": [1, 0, 0, 1, 0, 1],\n",
    "    \"score\": [9.7, 9.0, 9.5, 7.6, 9.1, 10.1]\n",
    "}\n",
    "circles = {\n",
    "    \"target\": [1, 1, 1, 0, 0, 0],\n",
    "    \"score\": [6.8, 8.8, 6.7, 6.6, 7.5, 6.4]\n",
    "}\n",
    "\n",
    "threshold = 7 \n",
    "\n",
    "triangles[\"selected\"] = [1 if x>=threshold else 0 for x in triangles[\"score\"]]\n",
    "circles[\"selected\"] = [1 if x>=threshold else 0 for x in circles[\"score\"]]\n",
    "\n",
    "tp_circles = fp_circles = 0\n",
    "tp_triangles = fp_triangles = 0\n",
    "for i in range(len(triangles[\"target\"])):\n",
    "    if triangles[\"target\"][i] == 1:\n",
    "        if triangles[\"selected\"][i] == 1:\n",
    "            tp_triangles +=1\n",
    "        else:\n",
    "            fp_triangles += 1\n",
    "    if circles[\"target\"][i] == 1:\n",
    "        if circles[\"selected\"][i] == 1:\n",
    "            tp_circles +=1\n",
    "        else:\n",
    "            fp_circles += 1\n",
    "            \n",
    "tpr_circles = tp_circles/sum(circles[\"target\"])\n",
    "tpr_triangles = tp_triangles/sum(triangles[\"target\"])\n",
    "\n",
    "print(tpr_circles)\n",
    "print(tpr_triangles)\n",
    "\n",
    "            "
   ]
  },
  {
   "cell_type": "code",
   "execution_count": 11,
   "id": "c46fec2c",
   "metadata": {},
   "outputs": [
    {
     "ename": "TypeError",
     "evalue": "'>' not supported between instances of 'list' and 'int'",
     "output_type": "error",
     "traceback": [
      "\u001b[0;31m---------------------------------------------------------------------------\u001b[0m",
      "\u001b[0;31mTypeError\u001b[0m                                 Traceback (most recent call last)",
      "Cell \u001b[0;32mIn[11], line 1\u001b[0m\n\u001b[0;32m----> 1\u001b[0m \u001b[43mcircles\u001b[49m\u001b[43m[\u001b[49m\u001b[38;5;124;43m\"\u001b[39;49m\u001b[38;5;124;43mtarget\u001b[39;49m\u001b[38;5;124;43m\"\u001b[39;49m\u001b[43m]\u001b[49m\u001b[43m \u001b[49m\u001b[38;5;241;43m>\u001b[39;49m\u001b[43m \u001b[49m\u001b[38;5;241;43m0\u001b[39;49m\n",
      "\u001b[0;31mTypeError\u001b[0m: '>' not supported between instances of 'list' and 'int'"
     ]
    }
   ],
   "source": [
    "circles[\"target\"] > 0"
   ]
  },
  {
   "cell_type": "markdown",
   "id": "7f670007",
   "metadata": {},
   "source": [
    "## Practical exercise\n",
    "\n",
    "In this exercise, we will work with a very recently published dataset that collects data from the US Census 2020. The dataset and a description is available at <https://github.com/zykls/folktables>. The features names are described in the appendix of the accompanying paper at <https://arxiv.org/pdf/2108.04884.pdf>.\n",
    "\n",
    "The goal of this exercise is to prepare mandatory assignment 1, in which you will further explore the dataset in terms of fairness and interpretability."
   ]
  },
  {
   "cell_type": "markdown",
   "id": "ccc72700",
   "metadata": {},
   "source": [
    "## Task 1 (Installation)\n",
    "\n",
    "Carry out the installation tasks at <https://github.com/zykls/folktables#basic-installation-instructions>.\n",
    "\n",
    "After successful installation, you should be able to run the following code to generate a prediction task."
   ]
  },
  {
   "cell_type": "code",
   "execution_count": 1,
   "id": "5921f706-cf73-4c13-a7da-0448ef057d14",
   "metadata": {},
   "outputs": [
    {
     "name": "stdout",
     "output_type": "stream",
     "text": [
      "Downloading data for 2018 1-Year person survey for CA...\n"
     ]
    }
   ],
   "source": [
    "from folktables.acs import adult_filter\n",
    "from folktables import ACSDataSource, BasicProblem\n",
    "import numpy as np\n",
    "from sklearn.model_selection import train_test_split\n",
    "\n",
    "\n",
    "data_source = ACSDataSource(survey_year='2018', horizon='1-Year', survey='person')\n",
    "acs_data = data_source.get_data(states=[\"CA\"], download=True)\n",
    "\n",
    "ACSIncomeNew = BasicProblem(\n",
    "    features=[\n",
    "        'AGEP', # include AGE\n",
    "        'COW', # include class of worker\n",
    "        'SCHL', # include school education\n",
    "        'WKHP', # include reported working hours\n",
    "        'SEX', # include sex\n",
    "    ],\n",
    "    target='PINCP',\n",
    "    target_transform=lambda x: x > 25000,    \n",
    "    group='SEX',\n",
    "    preprocess=adult_filter,\n",
    "    postprocess=lambda x: np.nan_to_num(x, -1),\n",
    ")\n",
    "\n",
    "features, label, group = ACSIncomeNew.df_to_numpy(acs_data)\n",
    "\n",
    "X_train, X_test, y_train, y_test, group_train, group_test = train_test_split(\n",
    "    features, label, group, test_size=0.2, random_state=0)"
   ]
  },
  {
   "cell_type": "markdown",
   "id": "eb093888",
   "metadata": {},
   "source": [
    "After carrying out these steps, you have a training and test datasets that contain the feature vector, group status, and predicted label. \n",
    "\n",
    "The prediction task here is to predict whether or not an individual has an income above 25000 USD per year. As group we use male/female (but others are possible from the dataset, e.g., race via the `RAC1P` feature). "
   ]
  },
  {
   "cell_type": "markdown",
   "id": "1f8c4b58",
   "metadata": {},
   "source": [
    "## Task 2 (Initial exploration)\n",
    "\n",
    "The idea is to build a simple classifier yourself. (We will discuss classifiers in the next two lectures in more detail.)"
   ]
  },
  {
   "cell_type": "code",
   "execution_count": null,
   "id": "1b39c94f",
   "metadata": {},
   "outputs": [],
   "source": [
    "# ADD code here to explore the properties of the dataset.\n",
    "# E.g., how does the prediction depend on the age? \n",
    "# What about the education status?\n",
    "# How about the sex?\n",
    "# It might be easier for you to work with `acs_data` from above, which is a pandas dataframe\n",
    "# The goal is not to build the perfect classifier, but rather to understand the features and their interaction with the target.\n"
   ]
  },
  {
   "cell_type": "markdown",
   "id": "65a6625a",
   "metadata": {},
   "source": [
    "## Task 3 (Building and evaluation a classifier)\n",
    "\n",
    "Use your knowledge from Task 2 to build a simple classifier to predict whether an individual in the test group will make more than 25000 USD or not per year. Try to keep your classifier simple, and see whether you can include some kind of threshold.\n",
    "\n",
    "1) Evaluate the accuracy of your classifier(s).\n",
    "2) Check the following fairness conditions of your classifier for your classifier:\n",
    "   - Statistical Parity ($G \\perp S$)\n",
    "   - Equalized odds ($G \\perp S | T)$, report both $T = 1$ (true positive rate) and $T = 0$ (false positive rate).\n",
    "   - Equalized outcome ($G \\perp T | S)$, report both $S = 1$ and $S = 0$.\n",
    "3) Discuss: How can you achieve fairness assumptions (statistical parity, equalized odds) with your classifier? Implement one intervention that should make the classifier more fair and evaluate its effect."
   ]
  },
  {
   "cell_type": "code",
   "execution_count": 13,
   "id": "7161d2e4",
   "metadata": {},
   "outputs": [],
   "source": [
    "# your code here\n",
    "\n"
   ]
  },
  {
   "cell_type": "markdown",
   "id": "b425c6f8",
   "metadata": {},
   "source": [
    "### Additional ideas\n",
    "\n",
    "1) Replace your classifier with a standard classifier such as linear regression, a decision tree, a random forest, or a neural network. How do the results change? \n",
    "2) Change the prediction task: For example, you could set the income much higher. What is the influence of changing the prediction task?"
   ]
  }
 ],
 "metadata": {
  "kernelspec": {
   "display_name": "Python 3 (ipykernel)",
   "language": "python",
   "name": "python3"
  },
  "language_info": {
   "codemirror_mode": {
    "name": "ipython",
    "version": 3
   },
   "file_extension": ".py",
   "mimetype": "text/x-python",
   "name": "python",
   "nbconvert_exporter": "python",
   "pygments_lexer": "ipython3",
   "version": "3.10.13"
  }
 },
 "nbformat": 4,
 "nbformat_minor": 5
}
